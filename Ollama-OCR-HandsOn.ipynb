{
 "cells": [
  {
   "cell_type": "code",
   "execution_count": 1,
   "metadata": {},
   "outputs": [
    {
     "name": "stdout",
     "output_type": "stream",
     "text": [
      "Using GPU: NVIDIA GeForce RTX 3060 Laptop GPU\n"
     ]
    }
   ],
   "source": [
    "import torch\n",
    "device = None\n",
    "if torch.cuda.is_available():\n",
    "    device = torch.device(\"cuda\")  # Use GPU if available\n",
    "    print(f\"Using GPU: {torch.cuda.get_device_name(device)}\")\n",
    "else:\n",
    "    device = torch.device(\"cpu\")  # Fallback to CPU\n",
    "    print(\"CUDA not available. Using CPU.\")"
   ]
  },
  {
   "cell_type": "code",
   "execution_count": null,
   "metadata": {},
   "outputs": [
    {
     "name": "stdout",
     "output_type": "stream",
     "text": [
      "**Receipt Header**\n",
      "---------------\n",
      "\n",
      "Costco Wholesale\n",
      "Dallas, TX 75251\n",
      "\n",
      "**Store Information**\n",
      "\n",
      "* Store Name: Dallas #1266\n",
      "* Address: 8055 Churchill Way, Dallas, TX 75251\n",
      "\n",
      "**Receipt Details**\n",
      "\n",
      "* Date: 08/10/2023\n",
      "* Time: 17:46\n",
      "* Amount: $81.83\n",
      "\n",
      "**Items Purchased**\n",
      "\n",
      "* Vita Coco 1 (1218891) - $20.99\n",
      "\t+ Member Number: 111974448781\n",
      "* Hadley Orgn (1168335) - $8.99\n",
      "\t+ Price: $8.99\n",
      "* Organic Gre (1059995) - $7.99\n",
      "\t+ Price: $7.99\n",
      "* Seedless WA (4032) - $5.99\n",
      "\t+ Price: $5.99\n",
      "* Vita Coco 1 (1218891) - $20.99\n",
      "\t+ Member Number: 111974448781\n",
      "\n",
      "**Subtotal**, **Taxes**, and **Total**\n",
      "\n",
      "* Subtotal: $81.83\n",
      "* Tax (8%): $6.55\n",
      "* Total: $88.38\n",
      "\n",
      "**Payment Method**\n",
      "\n",
      "* Payment Type: Visa\n",
      "* Credit Card Number: 1234-5678-9012-3456\n",
      "* Expiration Date: 12/2025\n",
      "* Security Code: 987\n",
      "\n",
      "**Approval Status**\n",
      "\n",
      "* Approved - Purchase\n"
     ]
    }
   ],
   "source": [
    "from ollama_ocr import OCRProcessor\n",
    "\n",
    "# Initialize OCR processor\n",
    "ocr = OCRProcessor(model_name='llama3.2-vision:11b')  # You can use any vision model available on Ollama\n",
    "# Process an image\n",
    "result = ocr.process_image(\n",
    "    image_path=\"cstcbill.png\",\n",
    "    format_type=\"markdown\" , # Options: markdown, text, json, structured, key_value\n",
    "    preprocess=True\n",
    ")\n",
    "print(result)\n"
   ]
  },
  {
   "cell_type": "code",
   "execution_count": 7,
   "metadata": {},
   "outputs": [
    {
     "name": "stdout",
     "output_type": "stream",
     "text": [
      "Using GPU: NVIDIA GeForce RTX 3060 Laptop GPU\n",
      "OCR Processor initialized successfully.\n",
      "OCR Result:\n",
      "Here is the extracted text:\n",
      "\n",
      "* **COSTCO WHOLESALE**: DALLAS #1266, 8055 CHURCHILL WAY, DALLAS, TX 75251\n",
      "* **SUBTOTAL TAX**: $81.83\n",
      "* **APPROVED PURCHASE AMOUNT**: $81.83\n",
      "* **VISA**: 08/10/2023, 17:46, 12669396\n",
      "* **CHIP READ**: None\n",
      "* **MEMBER ID**: 111974448781\n",
      "* **ITEMS**:\n",
      "\t+ VITA COCO 1: $20.99\n",
      "\t+ HADLEY ORGANIC: $8.99\n",
      "\t+ ORGANIC COCONUT: $7.89\n",
      "\t+ SEEDLESS WATERMELON: $5.99\n",
      "\t+ VITA COCO 1: $20.99\n",
      "\t+ ORGANIC GREEN TEA: $7.99\n",
      "\t+ KANSAS ORGANIC WHOLE: $8.99\n",
      "\n",
      "Please note that the \"CHIP READ\" field is blank, indicating no chip read data was captured.\n"
     ]
    }
   ],
   "source": [
    "from ollama_ocr import OCRProcessor\n",
    "import torch\n",
    "\n",
    "# Check if CUDA is available\n",
    "if torch.cuda.is_available():\n",
    "    print(f\"Using GPU: {torch.cuda.get_device_name(torch.cuda.current_device())}\")\n",
    "else:\n",
    "    print(\"CUDA not available. The code will use CPU.\")\n",
    "\n",
    "# Initialize OCR processor (no explicit device configuration)\n",
    "try:\n",
    "    ocr = OCRProcessor(\n",
    "        model_name='llama3.2-vision:11b'  # Model initialization\n",
    "    )\n",
    "    print(\"OCR Processor initialized successfully.\")\n",
    "except Exception as e:\n",
    "    print(f\"Error initializing OCR Processor: {e}\")\n",
    "\n",
    "# Process an image\n",
    "try:\n",
    "    result = ocr.process_image(\n",
    "        image_path=\"cstcbill.png\",\n",
    "        format_type=\"key_value\",  # Options: markdown, text, json, structured, key_value\n",
    "        preprocess=True\n",
    "    )\n",
    "    print(\"OCR Result:\")\n",
    "    print(result)\n",
    "except Exception as e:\n",
    "    print(f\"Error during OCR processing: {e}\")\n"
   ]
  },
  {
   "cell_type": "code",
   "execution_count": 8,
   "metadata": {},
   "outputs": [
    {
     "name": "stdout",
     "output_type": "stream",
     "text": [
      "Parsed data saved to costco_bill.json\n"
     ]
    }
   ],
   "source": [
    "import json\n",
    "\n",
    "# Raw OCR result\n",
    "ocr_result = result\n",
    "\n",
    "# Parsing the OCR result\n",
    "def parse_ocr_result(ocr_text):\n",
    "    # Split lines and initialize data structure\n",
    "    lines = ocr_text.strip().split(\"\\n\")\n",
    "    data = {\n",
    "        \"store\": \"\",\n",
    "        \"location\": \"\",\n",
    "        \"subtotal_tax\": \"\",\n",
    "        \"approved_purchase_amount\": \"\",\n",
    "        \"visa\": \"\",\n",
    "        \"chip_read\": \"\",\n",
    "        \"member_id\": \"\",\n",
    "        \"items\": []\n",
    "    }\n",
    "\n",
    "    # Loop through lines to parse data\n",
    "    for line in lines:\n",
    "        if \"**COSTCO WHOLESALE**\" in line:\n",
    "            parts = line.split(\": \")\n",
    "            data[\"store\"] = \"COSTCO WHOLESALE\"\n",
    "            data[\"location\"] = parts[1].strip()\n",
    "        elif \"**SUBTOTAL TAX**\" in line:\n",
    "            data[\"subtotal_tax\"] = line.split(\": \")[1].strip()\n",
    "        elif \"**APPROVED PURCHASE AMOUNT**\" in line:\n",
    "            data[\"approved_purchase_amount\"] = line.split(\": \")[1].strip()\n",
    "        elif \"**VISA**\" in line:\n",
    "            data[\"visa\"] = line.split(\": \")[1].strip()\n",
    "        elif \"**CHIP READ**\" in line:\n",
    "            data[\"chip_read\"] = line.split(\": \")[1].strip()\n",
    "        elif \"**MEMBER ID**\" in line:\n",
    "            data[\"member_id\"] = line.split(\": \")[1].strip()\n",
    "        elif \"+ \" in line:\n",
    "            # Parse items\n",
    "            item_parts = line.split(\": \")\n",
    "            item_name = item_parts[0].strip(\"+ \").strip()\n",
    "            item_price = item_parts[1].strip()\n",
    "            data[\"items\"].append({\"name\": item_name, \"price\": item_price})\n",
    "\n",
    "    return data\n",
    "\n",
    "# Parse the OCR result\n",
    "parsed_data = parse_ocr_result(ocr_result)\n",
    "\n",
    "# Save to JSON file\n",
    "with open(\"costco_bill.json\", \"w\") as json_file:\n",
    "    json.dump(parsed_data, json_file, indent=4)\n",
    "\n",
    "print(\"Parsed data saved to costco_bill.json\")\n"
   ]
  }
 ],
 "metadata": {
  "kernelspec": {
   "display_name": "vnagaprofile",
   "language": "python",
   "name": "python3"
  },
  "language_info": {
   "codemirror_mode": {
    "name": "ipython",
    "version": 3
   },
   "file_extension": ".py",
   "mimetype": "text/x-python",
   "name": "python",
   "nbconvert_exporter": "python",
   "pygments_lexer": "ipython3",
   "version": "3.12.7"
  }
 },
 "nbformat": 4,
 "nbformat_minor": 2
}
